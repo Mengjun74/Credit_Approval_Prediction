{
 "cells": [
  {
   "cell_type": "markdown",
   "id": "7b92c362-3c3b-43f9-bd33-8870b90bef01",
   "metadata": {},
   "source": [
    "# Exploratory Data Analysis\n",
    "## Team 01 DSCI-522 Group Project"
   ]
  },
  {
   "cell_type": "markdown",
   "id": "9592a9a7-fe5b-4d94-b581-47b9ebe79adb",
   "metadata": {},
   "source": [
    "## Data\n",
    "Data used for this project comes from UC Irvine's Machine Learning Repository https://archive-beta.ics.uci.edu/dataset/27/credit+approval\n",
    "The dataset contains data on Japanese Credit Card screeing for credit card applications where all attribute names and values have been anonymized in order to protect the confidentiality of the applicants.  Features contained in the dataset include continuous features and categorical features named A1-A16.  The target feature is A16 containing values `+` or `-` indicating wheather the candidate was approved or not."
   ]
  },
  {
   "cell_type": "code",
   "execution_count": null,
   "id": "862f3b4f-a406-4bde-86f9-4d99d1f3215f",
   "metadata": {},
   "outputs": [],
   "source": []
  }
 ],
 "metadata": {
  "kernelspec": {
   "display_name": "Python [conda env:573]",
   "language": "python",
   "name": "conda-env-573-py"
  },
  "language_info": {
   "codemirror_mode": {
    "name": "ipython",
    "version": 3
   },
   "file_extension": ".py",
   "mimetype": "text/x-python",
   "name": "python",
   "nbconvert_exporter": "python",
   "pygments_lexer": "ipython3",
   "version": "3.10.6"
  }
 },
 "nbformat": 4,
 "nbformat_minor": 5
}
