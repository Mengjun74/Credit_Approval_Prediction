{
 "cells": [
  {
   "cell_type": "markdown",
   "id": "7b92c362-3c3b-43f9-bd33-8870b90bef01",
   "metadata": {},
   "source": [
    "# Exploratory Data Analysis\n",
    "## Team 01 DSCI-522 Group Project"
   ]
  },
  {
   "cell_type": "markdown",
   "id": "9592a9a7-fe5b-4d94-b581-47b9ebe79adb",
   "metadata": {},
   "source": [
    "## Data\n",
    "Data used for this project comes from UC Irvine's Machine Learning Repository https://archive-beta.ics.uci.edu/dataset/27/credit+approval\n",
    "The dataset contains data on Japanese Credit Card screeing for credit card applications where all attribute names and values have been anonymized in order to protect the confidentiality of the applicants.  Features contained in the dataset include continuous features and categorical features named A1-A16.  The target feature is A16 containing values `+` or `-` indicating wheather the candidate was approved or not."
   ]
  },
  {
   "cell_type": "code",
   "execution_count": 40,
   "id": "862f3b4f-a406-4bde-86f9-4d99d1f3215f",
   "metadata": {},
   "outputs": [],
   "source": [
    "# Importing needed libraries\n",
    "import numpy as np\n",
    "import pandas as pd\n",
    "from matplotlib import pyplot as plt"
   ]
  },
  {
   "cell_type": "markdown",
   "id": "09bfc4aa-e104-4f07-9fb0-47ddc163d8d7",
   "metadata": {},
   "source": [
    "**Read in data**\n",
    "We are creating a dataframe with the data and looking at the top few rows in order to get an initial feel for what the data looks like.  "
   ]
  },
  {
   "cell_type": "code",
   "execution_count": 2,
   "id": "9f0e7ea7-317b-4668-bcd3-fbf497511ad6",
   "metadata": {},
   "outputs": [
    {
     "data": {
      "text/html": [
       "<div>\n",
       "<style scoped>\n",
       "    .dataframe tbody tr th:only-of-type {\n",
       "        vertical-align: middle;\n",
       "    }\n",
       "\n",
       "    .dataframe tbody tr th {\n",
       "        vertical-align: top;\n",
       "    }\n",
       "\n",
       "    .dataframe thead th {\n",
       "        text-align: right;\n",
       "    }\n",
       "</style>\n",
       "<table border=\"1\" class=\"dataframe\">\n",
       "  <thead>\n",
       "    <tr style=\"text-align: right;\">\n",
       "      <th></th>\n",
       "      <th>A1</th>\n",
       "      <th>A2</th>\n",
       "      <th>A3</th>\n",
       "      <th>A4</th>\n",
       "      <th>A5</th>\n",
       "      <th>A6</th>\n",
       "      <th>A7</th>\n",
       "      <th>A8</th>\n",
       "      <th>A9</th>\n",
       "      <th>A10</th>\n",
       "      <th>A11</th>\n",
       "      <th>A12</th>\n",
       "      <th>A13</th>\n",
       "      <th>A14</th>\n",
       "      <th>A15</th>\n",
       "      <th>A16</th>\n",
       "    </tr>\n",
       "  </thead>\n",
       "  <tbody>\n",
       "    <tr>\n",
       "      <th>0</th>\n",
       "      <td>b</td>\n",
       "      <td>30.83</td>\n",
       "      <td>0.000</td>\n",
       "      <td>u</td>\n",
       "      <td>g</td>\n",
       "      <td>w</td>\n",
       "      <td>v</td>\n",
       "      <td>1.25</td>\n",
       "      <td>t</td>\n",
       "      <td>t</td>\n",
       "      <td>1</td>\n",
       "      <td>f</td>\n",
       "      <td>g</td>\n",
       "      <td>202</td>\n",
       "      <td>0</td>\n",
       "      <td>+</td>\n",
       "    </tr>\n",
       "    <tr>\n",
       "      <th>1</th>\n",
       "      <td>a</td>\n",
       "      <td>58.67</td>\n",
       "      <td>4.460</td>\n",
       "      <td>u</td>\n",
       "      <td>g</td>\n",
       "      <td>q</td>\n",
       "      <td>h</td>\n",
       "      <td>3.04</td>\n",
       "      <td>t</td>\n",
       "      <td>t</td>\n",
       "      <td>6</td>\n",
       "      <td>f</td>\n",
       "      <td>g</td>\n",
       "      <td>43</td>\n",
       "      <td>560</td>\n",
       "      <td>+</td>\n",
       "    </tr>\n",
       "    <tr>\n",
       "      <th>2</th>\n",
       "      <td>a</td>\n",
       "      <td>24.5</td>\n",
       "      <td>0.500</td>\n",
       "      <td>u</td>\n",
       "      <td>g</td>\n",
       "      <td>q</td>\n",
       "      <td>h</td>\n",
       "      <td>1.50</td>\n",
       "      <td>t</td>\n",
       "      <td>f</td>\n",
       "      <td>0</td>\n",
       "      <td>f</td>\n",
       "      <td>g</td>\n",
       "      <td>280</td>\n",
       "      <td>824</td>\n",
       "      <td>+</td>\n",
       "    </tr>\n",
       "    <tr>\n",
       "      <th>3</th>\n",
       "      <td>b</td>\n",
       "      <td>27.83</td>\n",
       "      <td>1.540</td>\n",
       "      <td>u</td>\n",
       "      <td>g</td>\n",
       "      <td>w</td>\n",
       "      <td>v</td>\n",
       "      <td>3.75</td>\n",
       "      <td>t</td>\n",
       "      <td>t</td>\n",
       "      <td>5</td>\n",
       "      <td>t</td>\n",
       "      <td>g</td>\n",
       "      <td>100</td>\n",
       "      <td>3</td>\n",
       "      <td>+</td>\n",
       "    </tr>\n",
       "    <tr>\n",
       "      <th>4</th>\n",
       "      <td>b</td>\n",
       "      <td>20.17</td>\n",
       "      <td>5.625</td>\n",
       "      <td>u</td>\n",
       "      <td>g</td>\n",
       "      <td>w</td>\n",
       "      <td>v</td>\n",
       "      <td>1.71</td>\n",
       "      <td>t</td>\n",
       "      <td>f</td>\n",
       "      <td>0</td>\n",
       "      <td>f</td>\n",
       "      <td>s</td>\n",
       "      <td>120</td>\n",
       "      <td>0</td>\n",
       "      <td>+</td>\n",
       "    </tr>\n",
       "  </tbody>\n",
       "</table>\n",
       "</div>"
      ],
      "text/plain": [
       "  A1     A2     A3 A4 A5 A6 A7    A8 A9 A10  A11 A12 A13  A14  A15 A16\n",
       "0  b  30.83  0.000  u  g  w  v  1.25  t   t    1   f   g  202    0   +\n",
       "1  a  58.67  4.460  u  g  q  h  3.04  t   t    6   f   g   43  560   +\n",
       "2  a   24.5  0.500  u  g  q  h  1.50  t   f    0   f   g  280  824   +\n",
       "3  b  27.83  1.540  u  g  w  v  3.75  t   t    5   t   g  100    3   +\n",
       "4  b  20.17  5.625  u  g  w  v  1.71  t   f    0   f   s  120    0   +"
      ]
     },
     "execution_count": 2,
     "metadata": {},
     "output_type": "execute_result"
    }
   ],
   "source": [
    "df = pd.read_csv(\"crx.csv\", encoding=\"utf-8\")\n",
    "df.head()"
   ]
  },
  {
   "cell_type": "markdown",
   "id": "39dee5bd-996b-42d1-a30c-739764595664",
   "metadata": {},
   "source": [
    "With df.shape we can see that there are 690 observations of the 16 features in the dataset.  So this is not a very big dataset."
   ]
  },
  {
   "cell_type": "code",
   "execution_count": 3,
   "id": "7747b30b-e0ce-4322-81ec-c5da068c9252",
   "metadata": {},
   "outputs": [
    {
     "data": {
      "text/plain": [
       "(690, 16)"
      ]
     },
     "execution_count": 3,
     "metadata": {},
     "output_type": "execute_result"
    }
   ],
   "source": [
    "df.shape"
   ]
  },
  {
   "cell_type": "markdown",
   "id": "7563fc76-86fc-4b19-a51c-9fe400c4b1b4",
   "metadata": {},
   "source": [
    "**Initial look at data**\n",
    "The dataset has 16 columns with 690 values each all of which are non-null."
   ]
  },
  {
   "cell_type": "code",
   "execution_count": 4,
   "id": "15b5d6d5-c154-4221-bbba-59e1fb9b5592",
   "metadata": {},
   "outputs": [
    {
     "name": "stdout",
     "output_type": "stream",
     "text": [
      "<class 'pandas.core.frame.DataFrame'>\n",
      "RangeIndex: 690 entries, 0 to 689\n",
      "Data columns (total 16 columns):\n",
      " #   Column  Non-Null Count  Dtype  \n",
      "---  ------  --------------  -----  \n",
      " 0   A1      690 non-null    object \n",
      " 1   A2      690 non-null    object \n",
      " 2   A3      690 non-null    float64\n",
      " 3   A4      690 non-null    object \n",
      " 4   A5      690 non-null    object \n",
      " 5   A6      690 non-null    object \n",
      " 6   A7      690 non-null    object \n",
      " 7   A8      690 non-null    float64\n",
      " 8   A9      690 non-null    object \n",
      " 9   A10     690 non-null    object \n",
      " 10  A11     690 non-null    int64  \n",
      " 11  A12     690 non-null    object \n",
      " 12  A13     690 non-null    object \n",
      " 13  A14     690 non-null    object \n",
      " 14  A15     690 non-null    int64  \n",
      " 15  A16     690 non-null    object \n",
      "dtypes: float64(2), int64(2), object(12)\n",
      "memory usage: 86.4+ KB\n"
     ]
    }
   ],
   "source": [
    "df.info()"
   ]
  },
  {
   "cell_type": "markdown",
   "id": "d1f898ef-d600-4f57-b9d2-0f27f0b745d4",
   "metadata": {},
   "source": [
    "**Check for missing values**\n",
    "The data has no missing values."
   ]
  },
  {
   "cell_type": "code",
   "execution_count": 5,
   "id": "17776d16-9977-4e0a-8401-2d73e409d4a3",
   "metadata": {},
   "outputs": [
    {
     "data": {
      "text/plain": [
       "A1     0\n",
       "A2     0\n",
       "A3     0\n",
       "A4     0\n",
       "A5     0\n",
       "A6     0\n",
       "A7     0\n",
       "A8     0\n",
       "A9     0\n",
       "A10    0\n",
       "A11    0\n",
       "A12    0\n",
       "A13    0\n",
       "A14    0\n",
       "A15    0\n",
       "A16    0\n",
       "dtype: int64"
      ]
     },
     "execution_count": 5,
     "metadata": {},
     "output_type": "execute_result"
    }
   ],
   "source": [
    "df.isnull().sum()"
   ]
  },
  {
   "cell_type": "markdown",
   "id": "a0d28b16-9b69-49db-ae58-4cc362208274",
   "metadata": {},
   "source": [
    "By looking at `df.describe` results we can see that we have numerical columns as well as categorical ones. Some columns are contain values `t` and `f` which stands for true and false.  We might need to change them in the preprocessing stage. "
   ]
  },
  {
   "cell_type": "code",
   "execution_count": 6,
   "id": "01157767-9832-40fd-8627-36ca2c01506a",
   "metadata": {},
   "outputs": [
    {
     "data": {
      "text/html": [
       "<div>\n",
       "<style scoped>\n",
       "    .dataframe tbody tr th:only-of-type {\n",
       "        vertical-align: middle;\n",
       "    }\n",
       "\n",
       "    .dataframe tbody tr th {\n",
       "        vertical-align: top;\n",
       "    }\n",
       "\n",
       "    .dataframe thead th {\n",
       "        text-align: right;\n",
       "    }\n",
       "</style>\n",
       "<table border=\"1\" class=\"dataframe\">\n",
       "  <thead>\n",
       "    <tr style=\"text-align: right;\">\n",
       "      <th></th>\n",
       "      <th>A3</th>\n",
       "      <th>A8</th>\n",
       "      <th>A11</th>\n",
       "      <th>A15</th>\n",
       "    </tr>\n",
       "  </thead>\n",
       "  <tbody>\n",
       "    <tr>\n",
       "      <th>count</th>\n",
       "      <td>690.000000</td>\n",
       "      <td>690.000000</td>\n",
       "      <td>690.00000</td>\n",
       "      <td>690.000000</td>\n",
       "    </tr>\n",
       "    <tr>\n",
       "      <th>mean</th>\n",
       "      <td>4.758725</td>\n",
       "      <td>2.223406</td>\n",
       "      <td>2.40000</td>\n",
       "      <td>1017.385507</td>\n",
       "    </tr>\n",
       "    <tr>\n",
       "      <th>std</th>\n",
       "      <td>4.978163</td>\n",
       "      <td>3.346513</td>\n",
       "      <td>4.86294</td>\n",
       "      <td>5210.102598</td>\n",
       "    </tr>\n",
       "    <tr>\n",
       "      <th>min</th>\n",
       "      <td>0.000000</td>\n",
       "      <td>0.000000</td>\n",
       "      <td>0.00000</td>\n",
       "      <td>0.000000</td>\n",
       "    </tr>\n",
       "    <tr>\n",
       "      <th>25%</th>\n",
       "      <td>1.000000</td>\n",
       "      <td>0.165000</td>\n",
       "      <td>0.00000</td>\n",
       "      <td>0.000000</td>\n",
       "    </tr>\n",
       "    <tr>\n",
       "      <th>50%</th>\n",
       "      <td>2.750000</td>\n",
       "      <td>1.000000</td>\n",
       "      <td>0.00000</td>\n",
       "      <td>5.000000</td>\n",
       "    </tr>\n",
       "    <tr>\n",
       "      <th>75%</th>\n",
       "      <td>7.207500</td>\n",
       "      <td>2.625000</td>\n",
       "      <td>3.00000</td>\n",
       "      <td>395.500000</td>\n",
       "    </tr>\n",
       "    <tr>\n",
       "      <th>max</th>\n",
       "      <td>28.000000</td>\n",
       "      <td>28.500000</td>\n",
       "      <td>67.00000</td>\n",
       "      <td>100000.000000</td>\n",
       "    </tr>\n",
       "  </tbody>\n",
       "</table>\n",
       "</div>"
      ],
      "text/plain": [
       "               A3          A8        A11            A15\n",
       "count  690.000000  690.000000  690.00000     690.000000\n",
       "mean     4.758725    2.223406    2.40000    1017.385507\n",
       "std      4.978163    3.346513    4.86294    5210.102598\n",
       "min      0.000000    0.000000    0.00000       0.000000\n",
       "25%      1.000000    0.165000    0.00000       0.000000\n",
       "50%      2.750000    1.000000    0.00000       5.000000\n",
       "75%      7.207500    2.625000    3.00000     395.500000\n",
       "max     28.000000   28.500000   67.00000  100000.000000"
      ]
     },
     "execution_count": 6,
     "metadata": {},
     "output_type": "execute_result"
    }
   ],
   "source": [
    "df.describe()"
   ]
  },
  {
   "cell_type": "markdown",
   "id": "06c6ecc7-7727-4ecf-8b28-7dc267493298",
   "metadata": {},
   "source": [
    "**Take a look at individual columns of the dataset**\n",
    "\n",
    "In order to better understand what the data contains we want to look at the individual columns separately.  We'll first look at the values distribution for the categorical columns.\n",
    "After taking an initial look at feature `A1` becomes clear that missing values are replaced with a `?`.  This will require us to preprocess the data in order to account for these missing values.  Missing values have been replaced in some of the other categorical columns, e.g. `A4`, `A5`, `A6` and `A7`.  These will need to be replaced with null values in preprocessing.  The other categorical columns are clean of missing values.\n",
    "\n",
    "Missing values exist also in some of the numerical columns like `A2` and `A14`, where the missing values have been replaced with a `?`.  This change makes Pandas evaluate the two columns as categorical although they are numeric.\n",
    "\n",
    "The target feature `A16` contains values of `+` and `-` for positive or negative approval decision on the credit card application.  This column is well balanced with about 300 positive and 390 negative values, which makes the target well balanced."
   ]
  },
  {
   "cell_type": "code",
   "execution_count": 7,
   "id": "293ae4f9-665e-47e6-94c4-05b7f9a6e8c3",
   "metadata": {},
   "outputs": [
    {
     "data": {
      "text/plain": [
       "<AxesSubplot: title={'center': 'Feature A1 value counts'}, ylabel='Value splits'>"
      ]
     },
     "execution_count": 7,
     "metadata": {},
     "output_type": "execute_result"
    },
    {
     "data": {
      "image/png": "[encoded data removed]",
      "text/plain": [
       "<Figure size 700x200 with 1 Axes>"
      ]
     },
     "metadata": {},
     "output_type": "display_data"
    }
   ],
   "source": [
    "df['A1'].value_counts().plot(kind='barh', figsize=(7,2), title = \"Feature A1 value counts\", xlabel = \"Value splits\")"
   ]
  },
  {
   "cell_type": "code",
   "execution_count": 8,
   "id": "0fc02ee8-5d1e-4951-9a67-061400b3e294",
   "metadata": {},
   "outputs": [
    {
     "data": {
      "text/plain": [
       "<AxesSubplot: title={'center': 'Feature A4 value counts'}, ylabel='Value splits'>"
      ]
     },
     "execution_count": 8,
     "metadata": {},
     "output_type": "execute_result"
    },
    {
     "data": {
      "image/png": "[encoded data removed]",
      "text/plain": [
       "<Figure size 700x200 with 1 Axes>"
      ]
     },
     "metadata": {},
     "output_type": "display_data"
    }
   ],
   "source": [
    "df['A4'].value_counts().plot(kind='barh', figsize=(7,2), title = \"Feature A4 value counts\", xlabel = \"Value splits\")"
   ]
  },
  {
   "cell_type": "code",
   "execution_count": 9,
   "id": "3dc316eb-ed19-4100-8054-edbd2b4a8d65",
   "metadata": {},
   "outputs": [
    {
     "data": {
      "text/plain": [
       "<AxesSubplot: title={'center': 'Feature A5 value counts'}, ylabel='Value splits'>"
      ]
     },
     "execution_count": 9,
     "metadata": {},
     "output_type": "execute_result"
    },
    {
     "data": {
      "image/png": "[encoded data removed]",
      "text/plain": [
       "<Figure size 700x200 with 1 Axes>"
      ]
     },
     "metadata": {},
     "output_type": "display_data"
    }
   ],
   "source": [
    "df['A5'].value_counts().plot(kind='barh', figsize=(7,2), title = \"Feature A5 value counts\", xlabel = \"Value splits\")"
   ]
  },
  {
   "cell_type": "code",
   "execution_count": 10,
   "id": "06884a32-327a-402a-a5aa-dc9f060a806f",
   "metadata": {},
   "outputs": [
    {
     "data": {
      "text/plain": [
       "<AxesSubplot: title={'center': 'Feature A6 value counts'}, ylabel='Value splits'>"
      ]
     },
     "execution_count": 10,
     "metadata": {},
     "output_type": "execute_result"
    },
    {
     "data": {
      "image/png": "[encoded data removed]",
      "text/plain": [
       "<Figure size 700x200 with 1 Axes>"
      ]
     },
     "metadata": {},
     "output_type": "display_data"
    }
   ],
   "source": [
    "df['A6'].value_counts().plot(kind='barh', figsize=(7,2), title = \"Feature A6 value counts\", xlabel = \"Value splits\")"
   ]
  },
  {
   "cell_type": "code",
   "execution_count": 11,
   "id": "1623b5ba-6591-4a2b-94c0-d5d4664b867a",
   "metadata": {},
   "outputs": [
    {
     "data": {
      "text/plain": [
       "<AxesSubplot: title={'center': 'Feature A7 value counts'}, ylabel='Value splits'>"
      ]
     },
     "execution_count": 11,
     "metadata": {},
     "output_type": "execute_result"
    },
    {
     "data": {
      "image/png": "[encoded data removed]",
      "text/plain": [
       "<Figure size 700x200 with 1 Axes>"
      ]
     },
     "metadata": {},
     "output_type": "display_data"
    }
   ],
   "source": [
    "df['A7'].value_counts().plot(kind='barh', figsize=(7,2), title = \"Feature A7 value counts\", xlabel = \"Value splits\")"
   ]
  },
  {
   "cell_type": "code",
   "execution_count": 12,
   "id": "afb827ab-a6cc-464c-8661-83341d8235dc",
   "metadata": {},
   "outputs": [
    {
     "data": {
      "text/plain": [
       "<AxesSubplot: title={'center': 'Feature A9 value counts'}, ylabel='Value splits'>"
      ]
     },
     "execution_count": 12,
     "metadata": {},
     "output_type": "execute_result"
    },
    {
     "data": {
      "image/png": "[encoded data removed]",
      "text/plain": [
       "<Figure size 700x200 with 1 Axes>"
      ]
     },
     "metadata": {},
     "output_type": "display_data"
    }
   ],
   "source": [
    "df['A9'].value_counts().plot(kind='barh', figsize=(7,2), title = \"Feature A9 value counts\", xlabel = \"Value splits\")"
   ]
  },
  {
   "cell_type": "code",
   "execution_count": 13,
   "id": "3fa3ba5e-8552-4e1c-8c2b-39a84ea7a438",
   "metadata": {},
   "outputs": [
    {
     "data": {
      "text/plain": [
       "<AxesSubplot: title={'center': 'Feature A10 value counts'}, ylabel='Value splits'>"
      ]
     },
     "execution_count": 13,
     "metadata": {},
     "output_type": "execute_result"
    },
    {
     "data": {
      "image/png": "[encoded data removed]",
      "text/plain": [
       "<Figure size 700x200 with 1 Axes>"
      ]
     },
     "metadata": {},
     "output_type": "display_data"
    }
   ],
   "source": [
    "df['A10'].value_counts().plot(kind='barh', figsize=(7,2), title = \"Feature A10 value counts\", xlabel = \"Value splits\")"
   ]
  },
  {
   "cell_type": "code",
   "execution_count": 14,
   "id": "04b37519-834c-4f5e-bed8-b97b7b54bcf2",
   "metadata": {},
   "outputs": [
    {
     "data": {
      "text/plain": [
       "<AxesSubplot: title={'center': 'Feature A12 value counts'}, ylabel='Value splits'>"
      ]
     },
     "execution_count": 14,
     "metadata": {},
     "output_type": "execute_result"
    },
    {
     "data": {
      "image/png": "[encoded data removed]",
      "text/plain": [
       "<Figure size 700x200 with 1 Axes>"
      ]
     },
     "metadata": {},
     "output_type": "display_data"
    }
   ],
   "source": [
    "df['A12'].value_counts().plot(kind='barh', figsize=(7,2), title = \"Feature A12 value counts\", xlabel = \"Value splits\")"
   ]
  },
  {
   "cell_type": "code",
   "execution_count": 15,
   "id": "d6a107f2-d9c4-439f-b550-8e7c01c3f8d9",
   "metadata": {},
   "outputs": [
    {
     "data": {
      "text/plain": [
       "<AxesSubplot: title={'center': 'Feature A13 value counts'}, ylabel='Value splits'>"
      ]
     },
     "execution_count": 15,
     "metadata": {},
     "output_type": "execute_result"
    },
    {
     "data": {
      "image/png": "[encoded data removed]",
      "text/plain": [
       "<Figure size 700x200 with 1 Axes>"
      ]
     },
     "metadata": {},
     "output_type": "display_data"
    }
   ],
   "source": [
    "df['A13'].value_counts().plot(kind='barh', figsize=(7,2), title = \"Feature A13 value counts\", xlabel = \"Value splits\")"
   ]
  },
  {
   "cell_type": "code",
   "execution_count": 16,
   "id": "c003308d-3986-47c6-b7e8-1563ce440eeb",
   "metadata": {},
   "outputs": [
    {
     "data": {
      "text/plain": [
       "<AxesSubplot: title={'center': 'Feature A16 value counts'}, ylabel='Value splits'>"
      ]
     },
     "execution_count": 16,
     "metadata": {},
     "output_type": "execute_result"
    },
    {
     "data": {
      "image/png": "[encoded data removed]",
      "text/plain": [
       "<Figure size 700x200 with 1 Axes>"
      ]
     },
     "metadata": {},
     "output_type": "display_data"
    }
   ],
   "source": [
    "df['A16'].value_counts().plot(kind='barh', figsize=(7,2), title = \"Feature A16 value counts\", xlabel = \"Value splits\")"
   ]
  },
  {
   "cell_type": "markdown",
   "id": "bdd194dc-159a-4408-abdf-a2972f4fc190",
   "metadata": {},
   "source": [
    "**Replace `?` with `np.nan`**\n",
    "\n",
    "In order to gain better understanding of the missing values, we are replacing the question mark in place of missing values with `np.nan`. Now when we run an evaluation of the missing values, we get a better picture of the features containing `nan` values:"
   ]
  },
  {
   "cell_type": "code",
   "execution_count": 17,
   "id": "526a0efe-9f33-48fe-9b99-99e67921cfee",
   "metadata": {},
   "outputs": [],
   "source": [
    "df = df.replace('?', np.nan)"
   ]
  },
  {
   "cell_type": "code",
   "execution_count": 18,
   "id": "03653f55-8cd7-40e0-833f-01f872332853",
   "metadata": {},
   "outputs": [
    {
     "data": {
      "text/plain": [
       "A1     12\n",
       "A2     12\n",
       "A3      0\n",
       "A4      6\n",
       "A5      6\n",
       "A6      9\n",
       "A7      9\n",
       "A8      0\n",
       "A9      0\n",
       "A10     0\n",
       "A11     0\n",
       "A12     0\n",
       "A13     0\n",
       "A14    13\n",
       "A15     0\n",
       "A16     0\n",
       "dtype: int64"
      ]
     },
     "execution_count": 18,
     "metadata": {},
     "output_type": "execute_result"
    }
   ],
   "source": [
    "df.isnull().sum()"
   ]
  },
  {
   "cell_type": "markdown",
   "id": "723f3142-3d32-4048-9599-cf8e503e0447",
   "metadata": {},
   "source": [
    "**Convert columns A2 and A14 to float**\n",
    "\n",
    "Originaly the two columns `A2` and `A14` were interpreted as categorical by Pandas due to the `?` in place of missing values.  Now that we have replaced `?` with `np.nan` we can convert these columns as type `float` in order to better understand their values.  We can see in the description of the numeric columns that the values have different degree of variance and min-max values, which will require us to scale the numeric values in the preprocessing phase of our analysis."
   ]
  },
  {
   "cell_type": "code",
   "execution_count": 26,
   "id": "0d854be7-aa41-4c8c-bbd6-c853caf13385",
   "metadata": {},
   "outputs": [],
   "source": [
    "df[['A2', 'A14']] = df[['A2', 'A14']] .astype(float)"
   ]
  },
  {
   "cell_type": "code",
   "execution_count": 27,
   "id": "5ea11892-4f90-4944-8187-2f2a1cb01221",
   "metadata": {},
   "outputs": [
    {
     "data": {
      "text/html": [
       "<div>\n",
       "<style scoped>\n",
       "    .dataframe tbody tr th:only-of-type {\n",
       "        vertical-align: middle;\n",
       "    }\n",
       "\n",
       "    .dataframe tbody tr th {\n",
       "        vertical-align: top;\n",
       "    }\n",
       "\n",
       "    .dataframe thead th {\n",
       "        text-align: right;\n",
       "    }\n",
       "</style>\n",
       "<table border=\"1\" class=\"dataframe\">\n",
       "  <thead>\n",
       "    <tr style=\"text-align: right;\">\n",
       "      <th></th>\n",
       "      <th>A2</th>\n",
       "      <th>A3</th>\n",
       "      <th>A8</th>\n",
       "      <th>A11</th>\n",
       "      <th>A14</th>\n",
       "      <th>A15</th>\n",
       "    </tr>\n",
       "  </thead>\n",
       "  <tbody>\n",
       "    <tr>\n",
       "      <th>count</th>\n",
       "      <td>678.000000</td>\n",
       "      <td>690.000000</td>\n",
       "      <td>690.000000</td>\n",
       "      <td>690.00000</td>\n",
       "      <td>677.000000</td>\n",
       "      <td>690.000000</td>\n",
       "    </tr>\n",
       "    <tr>\n",
       "      <th>mean</th>\n",
       "      <td>31.568171</td>\n",
       "      <td>4.758725</td>\n",
       "      <td>2.223406</td>\n",
       "      <td>2.40000</td>\n",
       "      <td>184.014771</td>\n",
       "      <td>1017.385507</td>\n",
       "    </tr>\n",
       "    <tr>\n",
       "      <th>std</th>\n",
       "      <td>11.957862</td>\n",
       "      <td>4.978163</td>\n",
       "      <td>3.346513</td>\n",
       "      <td>4.86294</td>\n",
       "      <td>173.806768</td>\n",
       "      <td>5210.102598</td>\n",
       "    </tr>\n",
       "    <tr>\n",
       "      <th>min</th>\n",
       "      <td>13.750000</td>\n",
       "      <td>0.000000</td>\n",
       "      <td>0.000000</td>\n",
       "      <td>0.00000</td>\n",
       "      <td>0.000000</td>\n",
       "      <td>0.000000</td>\n",
       "    </tr>\n",
       "    <tr>\n",
       "      <th>25%</th>\n",
       "      <td>22.602500</td>\n",
       "      <td>1.000000</td>\n",
       "      <td>0.165000</td>\n",
       "      <td>0.00000</td>\n",
       "      <td>75.000000</td>\n",
       "      <td>0.000000</td>\n",
       "    </tr>\n",
       "    <tr>\n",
       "      <th>50%</th>\n",
       "      <td>28.460000</td>\n",
       "      <td>2.750000</td>\n",
       "      <td>1.000000</td>\n",
       "      <td>0.00000</td>\n",
       "      <td>160.000000</td>\n",
       "      <td>5.000000</td>\n",
       "    </tr>\n",
       "    <tr>\n",
       "      <th>75%</th>\n",
       "      <td>38.230000</td>\n",
       "      <td>7.207500</td>\n",
       "      <td>2.625000</td>\n",
       "      <td>3.00000</td>\n",
       "      <td>276.000000</td>\n",
       "      <td>395.500000</td>\n",
       "    </tr>\n",
       "    <tr>\n",
       "      <th>max</th>\n",
       "      <td>80.250000</td>\n",
       "      <td>28.000000</td>\n",
       "      <td>28.500000</td>\n",
       "      <td>67.00000</td>\n",
       "      <td>2000.000000</td>\n",
       "      <td>100000.000000</td>\n",
       "    </tr>\n",
       "  </tbody>\n",
       "</table>\n",
       "</div>"
      ],
      "text/plain": [
       "               A2          A3          A8        A11          A14  \\\n",
       "count  678.000000  690.000000  690.000000  690.00000   677.000000   \n",
       "mean    31.568171    4.758725    2.223406    2.40000   184.014771   \n",
       "std     11.957862    4.978163    3.346513    4.86294   173.806768   \n",
       "min     13.750000    0.000000    0.000000    0.00000     0.000000   \n",
       "25%     22.602500    1.000000    0.165000    0.00000    75.000000   \n",
       "50%     28.460000    2.750000    1.000000    0.00000   160.000000   \n",
       "75%     38.230000    7.207500    2.625000    3.00000   276.000000   \n",
       "max     80.250000   28.000000   28.500000   67.00000  2000.000000   \n",
       "\n",
       "                 A15  \n",
       "count     690.000000  \n",
       "mean     1017.385507  \n",
       "std      5210.102598  \n",
       "min         0.000000  \n",
       "25%         0.000000  \n",
       "50%         5.000000  \n",
       "75%       395.500000  \n",
       "max    100000.000000  "
      ]
     },
     "execution_count": 27,
     "metadata": {},
     "output_type": "execute_result"
    }
   ],
   "source": [
    "df.describe()"
   ]
  },
  {
   "cell_type": "markdown",
   "id": "f7643788-8075-4e04-8d5d-696a7f6514b9",
   "metadata": {},
   "source": [
    "We also want to get a better understanding of the value distributions in the numeric columns by creating histograms with each of the values in the numeric columns."
   ]
  },
  {
   "cell_type": "code",
   "execution_count": 55,
   "id": "4ded35a5-09b4-414d-8153-50940d020c96",
   "metadata": {},
   "outputs": [
    {
     "data": {
      "image/png": "[encoded data removed]",
      "text/plain": [
       "<Figure size 1000x1000 with 6 Axes>"
      ]
     },
     "metadata": {},
     "output_type": "display_data"
    }
   ],
   "source": [
    "hist = df.hist(bins = 15, figsize = (10,10))"
   ]
  },
  {
   "cell_type": "markdown",
   "id": "4b60a269-adf6-47ae-a521-c7e43e306b0d",
   "metadata": {},
   "source": [
    "**Correlation matrix**\n",
    "\n",
    "Finally we want to look at the correlations among the numeric values.  We can see that there are no major outliers in terms of correlations.  This is a good sign, because it means that all the numeric features can potentially add value in the analysis."
   ]
  },
  {
   "cell_type": "code",
   "execution_count": 43,
   "id": "ff5e3c7e-ebee-4ad7-af87-15d5c6063f99",
   "metadata": {},
   "outputs": [
    {
     "data": {
      "text/html": [
       "<style type=\"text/css\">\n",
       "#T_992f7_row0_col0, #T_992f7_row1_col1, #T_992f7_row2_col2, #T_992f7_row3_col3, #T_992f7_row4_col4, #T_992f7_row5_col5 {\n",
       "  background-color: #023858;\n",
       "  color: #f1f1f1;\n",
       "}\n",
       "#T_992f7_row0_col1 {\n",
       "  background-color: #b9c6e0;\n",
       "  color: #000000;\n",
       "}\n",
       "#T_992f7_row0_col2 {\n",
       "  background-color: #c5cce3;\n",
       "  color: #000000;\n",
       "}\n",
       "#T_992f7_row0_col3 {\n",
       "  background-color: #d5d5e8;\n",
       "  color: #000000;\n",
       "}\n",
       "#T_992f7_row0_col4 {\n",
       "  background-color: #d8d7e9;\n",
       "  color: #000000;\n",
       "}\n",
       "#T_992f7_row0_col5 {\n",
       "  background-color: #f0eaf4;\n",
       "  color: #000000;\n",
       "}\n",
       "#T_992f7_row1_col0 {\n",
       "  background-color: #ebe6f2;\n",
       "  color: #000000;\n",
       "}\n",
       "#T_992f7_row1_col2 {\n",
       "  background-color: #c2cbe2;\n",
       "  color: #000000;\n",
       "}\n",
       "#T_992f7_row1_col3 {\n",
       "  background-color: #c0c9e2;\n",
       "  color: #000000;\n",
       "}\n",
       "#T_992f7_row1_col4, #T_992f7_row4_col0, #T_992f7_row4_col1, #T_992f7_row4_col2, #T_992f7_row4_col3, #T_992f7_row4_col5 {\n",
       "  background-color: #fff7fb;\n",
       "  color: #000000;\n",
       "}\n",
       "#T_992f7_row1_col5 {\n",
       "  background-color: #e4e1ef;\n",
       "  color: #000000;\n",
       "}\n",
       "#T_992f7_row2_col0 {\n",
       "  background-color: #cacee5;\n",
       "  color: #000000;\n",
       "}\n",
       "#T_992f7_row2_col1 {\n",
       "  background-color: #8eb3d5;\n",
       "  color: #000000;\n",
       "}\n",
       "#T_992f7_row2_col3 {\n",
       "  background-color: #9ebad9;\n",
       "  color: #000000;\n",
       "}\n",
       "#T_992f7_row2_col4 {\n",
       "  background-color: #dbdaeb;\n",
       "  color: #000000;\n",
       "}\n",
       "#T_992f7_row2_col5 {\n",
       "  background-color: #e8e4f0;\n",
       "  color: #000000;\n",
       "}\n",
       "#T_992f7_row3_col0 {\n",
       "  background-color: #e9e5f1;\n",
       "  color: #000000;\n",
       "}\n",
       "#T_992f7_row3_col1 {\n",
       "  background-color: #a2bcda;\n",
       "  color: #000000;\n",
       "}\n",
       "#T_992f7_row3_col2 {\n",
       "  background-color: #b3c3de;\n",
       "  color: #000000;\n",
       "}\n",
       "#T_992f7_row3_col4 {\n",
       "  background-color: #ede7f2;\n",
       "  color: #000000;\n",
       "}\n",
       "#T_992f7_row3_col5 {\n",
       "  background-color: #83afd3;\n",
       "  color: #f1f1f1;\n",
       "}\n",
       "#T_992f7_row5_col0 {\n",
       "  background-color: #f7f0f7;\n",
       "  color: #000000;\n",
       "}\n",
       "#T_992f7_row5_col1 {\n",
       "  background-color: #bcc7e1;\n",
       "  color: #000000;\n",
       "}\n",
       "#T_992f7_row5_col2 {\n",
       "  background-color: #ede8f3;\n",
       "  color: #000000;\n",
       "}\n",
       "#T_992f7_row5_col3 {\n",
       "  background-color: #76aad0;\n",
       "  color: #f1f1f1;\n",
       "}\n",
       "#T_992f7_row5_col4 {\n",
       "  background-color: #e0deed;\n",
       "  color: #000000;\n",
       "}\n",
       "</style>\n",
       "<table id=\"T_992f7\">\n",
       "  <thead>\n",
       "    <tr>\n",
       "      <th class=\"blank level0\" >&nbsp;</th>\n",
       "      <th id=\"T_992f7_level0_col0\" class=\"col_heading level0 col0\" >A2</th>\n",
       "      <th id=\"T_992f7_level0_col1\" class=\"col_heading level0 col1\" >A3</th>\n",
       "      <th id=\"T_992f7_level0_col2\" class=\"col_heading level0 col2\" >A8</th>\n",
       "      <th id=\"T_992f7_level0_col3\" class=\"col_heading level0 col3\" >A11</th>\n",
       "      <th id=\"T_992f7_level0_col4\" class=\"col_heading level0 col4\" >A14</th>\n",
       "      <th id=\"T_992f7_level0_col5\" class=\"col_heading level0 col5\" >A15</th>\n",
       "    </tr>\n",
       "  </thead>\n",
       "  <tbody>\n",
       "    <tr>\n",
       "      <th id=\"T_992f7_level0_row0\" class=\"row_heading level0 row0\" >A2</th>\n",
       "      <td id=\"T_992f7_row0_col0\" class=\"data row0 col0\" >1.000000</td>\n",
       "      <td id=\"T_992f7_row0_col1\" class=\"data row0 col1\" >0.116843</td>\n",
       "      <td id=\"T_992f7_row0_col2\" class=\"data row0 col2\" >0.257384</td>\n",
       "      <td id=\"T_992f7_row0_col3\" class=\"data row0 col3\" >0.123252</td>\n",
       "      <td id=\"T_992f7_row0_col4\" class=\"data row0 col4\" >-0.015741</td>\n",
       "      <td id=\"T_992f7_row0_col5\" class=\"data row0 col5\" >0.041962</td>\n",
       "    </tr>\n",
       "    <tr>\n",
       "      <th id=\"T_992f7_level0_row1\" class=\"row_heading level0 row1\" >A3</th>\n",
       "      <td id=\"T_992f7_row1_col0\" class=\"data row1 col0\" >0.116843</td>\n",
       "      <td id=\"T_992f7_row1_col1\" class=\"data row1 col1\" >1.000000</td>\n",
       "      <td id=\"T_992f7_row1_col2\" class=\"data row1 col2\" >0.266057</td>\n",
       "      <td id=\"T_992f7_row1_col3\" class=\"data row1 col3\" >0.204199</td>\n",
       "      <td id=\"T_992f7_row1_col4\" class=\"data row1 col4\" >-0.296037</td>\n",
       "      <td id=\"T_992f7_row1_col5\" class=\"data row1 col5\" >0.106388</td>\n",
       "    </tr>\n",
       "    <tr>\n",
       "      <th id=\"T_992f7_level0_row2\" class=\"row_heading level0 row2\" >A8</th>\n",
       "      <td id=\"T_992f7_row2_col0\" class=\"data row2 col0\" >0.257384</td>\n",
       "      <td id=\"T_992f7_row2_col1\" class=\"data row2 col1\" >0.266057</td>\n",
       "      <td id=\"T_992f7_row2_col2\" class=\"data row2 col2\" >1.000000</td>\n",
       "      <td id=\"T_992f7_row2_col3\" class=\"data row2 col3\" >0.314813</td>\n",
       "      <td id=\"T_992f7_row2_col4\" class=\"data row2 col4\" >-0.035486</td>\n",
       "      <td id=\"T_992f7_row2_col5\" class=\"data row2 col5\" >0.086870</td>\n",
       "    </tr>\n",
       "    <tr>\n",
       "      <th id=\"T_992f7_level0_row3\" class=\"row_heading level0 row3\" >A11</th>\n",
       "      <td id=\"T_992f7_row3_col0\" class=\"data row3 col0\" >0.123252</td>\n",
       "      <td id=\"T_992f7_row3_col1\" class=\"data row3 col1\" >0.204199</td>\n",
       "      <td id=\"T_992f7_row3_col2\" class=\"data row3 col2\" >0.314813</td>\n",
       "      <td id=\"T_992f7_row3_col3\" class=\"data row3 col3\" >1.000000</td>\n",
       "      <td id=\"T_992f7_row3_col4\" class=\"data row3 col4\" >-0.134102</td>\n",
       "      <td id=\"T_992f7_row3_col5\" class=\"data row3 col5\" >0.427244</td>\n",
       "    </tr>\n",
       "    <tr>\n",
       "      <th id=\"T_992f7_level0_row4\" class=\"row_heading level0 row4\" >A14</th>\n",
       "      <td id=\"T_992f7_row4_col0\" class=\"data row4 col0\" >-0.015741</td>\n",
       "      <td id=\"T_992f7_row4_col1\" class=\"data row4 col1\" >-0.296037</td>\n",
       "      <td id=\"T_992f7_row4_col2\" class=\"data row4 col2\" >-0.035486</td>\n",
       "      <td id=\"T_992f7_row4_col3\" class=\"data row4 col3\" >-0.134102</td>\n",
       "      <td id=\"T_992f7_row4_col4\" class=\"data row4 col4\" >1.000000</td>\n",
       "      <td id=\"T_992f7_row4_col5\" class=\"data row4 col5\" >-0.065731</td>\n",
       "    </tr>\n",
       "    <tr>\n",
       "      <th id=\"T_992f7_level0_row5\" class=\"row_heading level0 row5\" >A15</th>\n",
       "      <td id=\"T_992f7_row5_col0\" class=\"data row5 col0\" >0.041962</td>\n",
       "      <td id=\"T_992f7_row5_col1\" class=\"data row5 col1\" >0.106388</td>\n",
       "      <td id=\"T_992f7_row5_col2\" class=\"data row5 col2\" >0.086870</td>\n",
       "      <td id=\"T_992f7_row5_col3\" class=\"data row5 col3\" >0.427244</td>\n",
       "      <td id=\"T_992f7_row5_col4\" class=\"data row5 col4\" >-0.065731</td>\n",
       "      <td id=\"T_992f7_row5_col5\" class=\"data row5 col5\" >1.000000</td>\n",
       "    </tr>\n",
       "  </tbody>\n",
       "</table>\n"
      ],
      "text/plain": [
       "<pandas.io.formats.style.Styler at 0x25223f18b20>"
      ]
     },
     "execution_count": 43,
     "metadata": {},
     "output_type": "execute_result"
    }
   ],
   "source": [
    "corr = df.corr('spearman').style.background_gradient()\n",
    "corr"
   ]
  }
 ],
 "metadata": {
  "kernelspec": {
   "display_name": "Python [conda env:573]",
   "language": "python",
   "name": "conda-env-573-py"
  },
  "language_info": {
   "codemirror_mode": {
    "name": "ipython",
    "version": 3
   },
   "file_extension": ".py",
   "mimetype": "text/x-python",
   "name": "python",
   "nbconvert_exporter": "python",
   "pygments_lexer": "ipython3",
   "version": "3.10.6"
  }
 },
 "nbformat": 4,
 "nbformat_minor": 5
}
