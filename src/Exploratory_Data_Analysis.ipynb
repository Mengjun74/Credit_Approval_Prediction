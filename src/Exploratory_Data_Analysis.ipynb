{
 "cells": [
  {
   "cell_type": "markdown",
   "id": "bb29a354-8f90-410f-a101-70a7e3ea70df",
   "metadata": {},
   "source": [
    "# Exploratory Data Analysis\n",
    "## Team 01 DSCI-522 \n",
    "## Group Project: Credit_Approval_Prediction"
   ]
  },
  {
   "cell_type": "markdown",
   "id": "9592a9a7-fe5b-4d94-b581-47b9ebe79adb",
   "metadata": {},
   "source": [
    "## Data\n",
    "Data used for this project comes from UC Irvine's Machine Learning Repository https://archive-beta.ics.uci.edu/dataset/27/credit+approval\n",
    "The dataset contains data on Japanese Credit Card screeing for credit card applications where all attribute names and values have been anonymized in order to protect the confidentiality of the applicants.  Features contained in the dataset include continuous features and categorical features named A1-A16.  The target feature is A16 containing values `+` or `-` indicating wheather the candidate was approved or not.  The feature names and properties have been anonymized to protect customer privacy."
   ]
  },
  {
   "cell_type": "markdown",
   "id": "741f657a-33f0-42df-8713-90f45ff19d41",
   "metadata": {},
   "source": [
    "## Summary of Exploratory data analysis\n",
    "\n",
    "The data set contains 16 columns with 690 observations each.  So the data set is not huge, but of decent size and should be able to produce good insights with the intended modeling.\n",
    "\n",
    "After an initial look at the data, we identified missing values which were denoted by `?`.  We decided to replace these with `np.nan`, in order to properly categorize the columns and facilitate calculations in the process of modeling the data.\n",
    "\n",
    "The data has been split in two parts - `train_df` and `test_df`. We will perform all EDA and subsequent modeling on train_df and use test_df to verify the robustness of our selected best model.\n",
    "\n",
    "There is are 10 categorical features, namely `A1`, `A4`, `A5`, `A6`, `A7`, `A9`, `A10`, `A12`, `A13`, `A16` - the last being the target column.  In the EDA we evaluate the levels and number of occurrences of each categorical feature.  The data contains 6 numeric features, namely `A2`, `A3`, `A8`, `A11`, `A14`, `A15`.  In the EDA we evaluate the frequencies in 15 separate value bins for the numeric features.\n",
    "\n",
    "Finally we evaluate a correlation matrix with the numeric features Spearman correlations to evaluate any potential pitfalls from highly correlated features which could end up misguiding our modeling efforts."
   ]
  },
  {
   "cell_type": "markdown",
   "id": "f48912c3-518d-4c86-a893-894313b9d98c",
   "metadata": {},
   "source": [
    "**First we import the needed libraries**"
   ]
  },
  {
   "cell_type": "code",
   "execution_count": 2,
   "id": "862f3b4f-a406-4bde-86f9-4d99d1f3215f",
   "metadata": {},
   "outputs": [],
   "source": [
    "import numpy as np\n",
    "import pandas as pd\n",
    "from matplotlib import pyplot as plt\n",
    "from sklearn.model_selection import train_test_split"
   ]
  },
  {
   "cell_type": "markdown",
   "id": "09bfc4aa-e104-4f07-9fb0-47ddc163d8d7",
   "metadata": {},
   "source": [
    "**Read in data**\n",
    "We are creating a dataframe with the data and looking at the top few rows in order to get an initial feel for what the data looks like.  "
   ]
  },
  {
   "cell_type": "code",
   "execution_count": 3,
   "id": "9f0e7ea7-317b-4668-bcd3-fbf497511ad6",
   "metadata": {},
   "outputs": [],
   "source": [
    "df = pd.read_csv(\"../data/raw/crx.csv\", encoding=\"utf-8\")"
   ]
  },
  {
   "cell_type": "markdown",
   "id": "39dee5bd-996b-42d1-a30c-739764595664",
   "metadata": {},
   "source": [
    "With df.shape we can see that there are 690 observations of the 16 features in the dataset.  So this is not a very big dataset."
   ]
  },
  {
   "cell_type": "code",
   "execution_count": 4,
   "id": "7747b30b-e0ce-4322-81ec-c5da068c9252",
   "metadata": {},
   "outputs": [
    {
     "data": {
      "text/plain": [
       "(690, 16)"
      ]
     },
     "execution_count": 4,
     "metadata": {},
     "output_type": "execute_result"
    }
   ],
   "source": [
    "df.shape"
   ]
  },
  {
   "cell_type": "markdown",
   "id": "6913ac40-869b-4060-934e-a11adc6e7c24",
   "metadata": {},
   "source": [
    "**Splitting the data**\n",
    "\n",
    "Before exploring the data we create Train and Test splits with 20% of the data used as test data and 80% used as training data."
   ]
  },
  {
   "cell_type": "code",
   "execution_count": 5,
   "id": "c17ab07d-1da0-419a-917e-aca97302e4c0",
   "metadata": {},
   "outputs": [],
   "source": [
    "train_df, test_df = train_test_split(df, test_size=0.2, random_state=522)"
   ]
  },
  {
   "cell_type": "markdown",
   "id": "5549dd42-a384-4bd6-a80e-0bc11a5ed022",
   "metadata": {},
   "source": [
    "Next we take an initial high-level look at the features in the training data."
   ]
  },
  {
   "cell_type": "code",
   "execution_count": 6,
   "id": "8c360c78-a36f-4864-b5d8-e726203b8133",
   "metadata": {},
   "outputs": [
    {
     "name": "stdout",
     "output_type": "stream",
     "text": [
      "\u001b[1mTable 1: Initial look at the first five rows of the training data\n",
      "\u001b[0m\n"
     ]
    },
    {
     "data": {
      "text/html": [
       "<div>\n",
       "<style scoped>\n",
       "    .dataframe tbody tr th:only-of-type {\n",
       "        vertical-align: middle;\n",
       "    }\n",
       "\n",
       "    .dataframe tbody tr th {\n",
       "        vertical-align: top;\n",
       "    }\n",
       "\n",
       "    .dataframe thead th {\n",
       "        text-align: right;\n",
       "    }\n",
       "</style>\n",
       "<table border=\"1\" class=\"dataframe\">\n",
       "  <thead>\n",
       "    <tr style=\"text-align: right;\">\n",
       "      <th></th>\n",
       "      <th>A1</th>\n",
       "      <th>A2</th>\n",
       "      <th>A3</th>\n",
       "      <th>A4</th>\n",
       "      <th>A5</th>\n",
       "      <th>A6</th>\n",
       "      <th>A7</th>\n",
       "      <th>A8</th>\n",
       "      <th>A9</th>\n",
       "      <th>A10</th>\n",
       "      <th>A11</th>\n",
       "      <th>A12</th>\n",
       "      <th>A13</th>\n",
       "      <th>A14</th>\n",
       "      <th>A15</th>\n",
       "      <th>A16</th>\n",
       "    </tr>\n",
       "  </thead>\n",
       "  <tbody>\n",
       "    <tr>\n",
       "      <th>146</th>\n",
       "      <td>b</td>\n",
       "      <td>23.25</td>\n",
       "      <td>1.50</td>\n",
       "      <td>u</td>\n",
       "      <td>g</td>\n",
       "      <td>q</td>\n",
       "      <td>v</td>\n",
       "      <td>2.375</td>\n",
       "      <td>t</td>\n",
       "      <td>t</td>\n",
       "      <td>3</td>\n",
       "      <td>t</td>\n",
       "      <td>g</td>\n",
       "      <td>0</td>\n",
       "      <td>582</td>\n",
       "      <td>+</td>\n",
       "    </tr>\n",
       "    <tr>\n",
       "      <th>237</th>\n",
       "      <td>b</td>\n",
       "      <td>21.33</td>\n",
       "      <td>7.50</td>\n",
       "      <td>u</td>\n",
       "      <td>g</td>\n",
       "      <td>aa</td>\n",
       "      <td>v</td>\n",
       "      <td>1.415</td>\n",
       "      <td>t</td>\n",
       "      <td>t</td>\n",
       "      <td>1</td>\n",
       "      <td>f</td>\n",
       "      <td>g</td>\n",
       "      <td>80</td>\n",
       "      <td>9800</td>\n",
       "      <td>+</td>\n",
       "    </tr>\n",
       "    <tr>\n",
       "      <th>261</th>\n",
       "      <td>a</td>\n",
       "      <td>52.17</td>\n",
       "      <td>0.00</td>\n",
       "      <td>y</td>\n",
       "      <td>p</td>\n",
       "      <td>ff</td>\n",
       "      <td>ff</td>\n",
       "      <td>0.000</td>\n",
       "      <td>f</td>\n",
       "      <td>f</td>\n",
       "      <td>0</td>\n",
       "      <td>f</td>\n",
       "      <td>g</td>\n",
       "      <td>0</td>\n",
       "      <td>0</td>\n",
       "      <td>-</td>\n",
       "    </tr>\n",
       "    <tr>\n",
       "      <th>27</th>\n",
       "      <td>b</td>\n",
       "      <td>56.58</td>\n",
       "      <td>18.50</td>\n",
       "      <td>u</td>\n",
       "      <td>g</td>\n",
       "      <td>d</td>\n",
       "      <td>bb</td>\n",
       "      <td>15.000</td>\n",
       "      <td>t</td>\n",
       "      <td>t</td>\n",
       "      <td>17</td>\n",
       "      <td>t</td>\n",
       "      <td>g</td>\n",
       "      <td>0</td>\n",
       "      <td>0</td>\n",
       "      <td>+</td>\n",
       "    </tr>\n",
       "    <tr>\n",
       "      <th>497</th>\n",
       "      <td>b</td>\n",
       "      <td>20.17</td>\n",
       "      <td>9.25</td>\n",
       "      <td>u</td>\n",
       "      <td>g</td>\n",
       "      <td>c</td>\n",
       "      <td>v</td>\n",
       "      <td>1.665</td>\n",
       "      <td>t</td>\n",
       "      <td>t</td>\n",
       "      <td>3</td>\n",
       "      <td>t</td>\n",
       "      <td>g</td>\n",
       "      <td>40</td>\n",
       "      <td>28</td>\n",
       "      <td>+</td>\n",
       "    </tr>\n",
       "  </tbody>\n",
       "</table>\n",
       "</div>"
      ],
      "text/plain": [
       "    A1     A2     A3 A4 A5  A6  A7      A8 A9 A10  A11 A12 A13 A14   A15 A16\n",
       "146  b  23.25   1.50  u  g   q   v   2.375  t   t    3   t   g   0   582   +\n",
       "237  b  21.33   7.50  u  g  aa   v   1.415  t   t    1   f   g  80  9800   +\n",
       "261  a  52.17   0.00  y  p  ff  ff   0.000  f   f    0   f   g   0     0   -\n",
       "27   b  56.58  18.50  u  g   d  bb  15.000  t   t   17   t   g   0     0   +\n",
       "497  b  20.17   9.25  u  g   c   v   1.665  t   t    3   t   g  40    28   +"
      ]
     },
     "execution_count": 6,
     "metadata": {},
     "output_type": "execute_result"
    }
   ],
   "source": [
    "print('\\033[1m'+ \"Table 1: Initial look at the first five rows \\\n",
    "of the training data\\n\"+'\\033[0m')\n",
    "\n",
    "train_df.head()"
   ]
  },
  {
   "cell_type": "markdown",
   "id": "df26c6b6-e26a-4d2e-bf7e-6bde8359a824",
   "metadata": {},
   "source": [
    "We take an initial evaluation of the different columns in the training data by running `train_df.info()` below. Comparing the results in Table 2 below with the the output in Table 1 above we noticed that columns `A2` and `A14` appear to be numeric features, while df.info() returns `object` Dtype for them.  This is explained by the fact that the missing values in the data are replaced with `?`.  Because none the remaining numeric columns are interpreted correctly as float64 Dtypes, we will need to convert `A2` and `A14` to float64 manually in order to facilitate the modeling.  The missing values do not affect the categorical columns which are appropriately labeled as Dtype object."
   ]
  },
  {
   "cell_type": "code",
   "execution_count": 7,
   "id": "4c0c8ede-0c64-4be7-97ef-deccbba2789f",
   "metadata": {},
   "outputs": [
    {
     "name": "stdout",
     "output_type": "stream",
     "text": [
      "\u001b[1mTable 2: Initial summary information about training data \n",
      "\u001b[0m\n",
      "<class 'pandas.core.frame.DataFrame'>\n",
      "Int64Index: 552 entries, 146 to 288\n",
      "Data columns (total 16 columns):\n",
      " #   Column  Non-Null Count  Dtype  \n",
      "---  ------  --------------  -----  \n",
      " 0   A1      552 non-null    object \n",
      " 1   A2      552 non-null    object \n",
      " 2   A3      552 non-null    float64\n",
      " 3   A4      552 non-null    object \n",
      " 4   A5      552 non-null    object \n",
      " 5   A6      552 non-null    object \n",
      " 6   A7      552 non-null    object \n",
      " 7   A8      552 non-null    float64\n",
      " 8   A9      552 non-null    object \n",
      " 9   A10     552 non-null    object \n",
      " 10  A11     552 non-null    int64  \n",
      " 11  A12     552 non-null    object \n",
      " 12  A13     552 non-null    object \n",
      " 13  A14     552 non-null    object \n",
      " 14  A15     552 non-null    int64  \n",
      " 15  A16     552 non-null    object \n",
      "dtypes: float64(2), int64(2), object(12)\n",
      "memory usage: 73.3+ KB\n"
     ]
    }
   ],
   "source": [
    "print('\\033[1m'+ \"Table 2: Initial summary information \\\n",
    "about training data \\n\"+'\\033[0m')\n",
    "\n",
    "train_df.info()"
   ]
  },
  {
   "cell_type": "markdown",
   "id": "3963d681-26db-4665-a5ac-e52af5d9e827",
   "metadata": {},
   "source": [
    "**Replace ? with np.nan**\n",
    "\n",
    "In order to gain better understanding of the missing values, we are replacing the `?` in place of missing values with np.nan."
   ]
  },
  {
   "cell_type": "code",
   "execution_count": 8,
   "id": "b2f17474-b523-4e5b-a4f8-6e4ee83127ae",
   "metadata": {},
   "outputs": [],
   "source": [
    "train_df = train_df.replace('?', np.nan)"
   ]
  },
  {
   "cell_type": "markdown",
   "id": "b98fc2b6-99c0-4bb5-9f75-eb714303f877",
   "metadata": {},
   "source": [
    "**Convert columns A2 and A14 to float**\n",
    "\n",
    "As mentioned above we can convert these two mislabeled columns as type `float` in order to better model their contents."
   ]
  },
  {
   "cell_type": "code",
   "execution_count": 9,
   "id": "aab70ec6-ed45-4130-ae86-ab14277dfb46",
   "metadata": {},
   "outputs": [],
   "source": [
    "train_df[['A2', 'A14']] = train_df[['A2', 'A14']] .astype(float)"
   ]
  },
  {
   "cell_type": "markdown",
   "id": "646e4a2f-5371-4988-8332-5bb4984a2ea9",
   "metadata": {},
   "source": [
    "After conversion of `A2` and `A14` to float `train_df.info()`  displays all column values properly."
   ]
  },
  {
   "cell_type": "code",
   "execution_count": 10,
   "id": "15b5d6d5-c154-4221-bbba-59e1fb9b5592",
   "metadata": {},
   "outputs": [
    {
     "name": "stdout",
     "output_type": "stream",
     "text": [
      "\u001b[1mTable 3: Summary information about training data \n",
      "\u001b[0m\n",
      "<class 'pandas.core.frame.DataFrame'>\n",
      "Int64Index: 552 entries, 146 to 288\n",
      "Data columns (total 16 columns):\n",
      " #   Column  Non-Null Count  Dtype  \n",
      "---  ------  --------------  -----  \n",
      " 0   A1      544 non-null    object \n",
      " 1   A2      542 non-null    float64\n",
      " 2   A3      552 non-null    float64\n",
      " 3   A4      549 non-null    object \n",
      " 4   A5      549 non-null    object \n",
      " 5   A6      546 non-null    object \n",
      " 6   A7      546 non-null    object \n",
      " 7   A8      552 non-null    float64\n",
      " 8   A9      552 non-null    object \n",
      " 9   A10     552 non-null    object \n",
      " 10  A11     552 non-null    int64  \n",
      " 11  A12     552 non-null    object \n",
      " 12  A13     552 non-null    object \n",
      " 13  A14     544 non-null    float64\n",
      " 14  A15     552 non-null    int64  \n",
      " 15  A16     552 non-null    object \n",
      "dtypes: float64(4), int64(2), object(10)\n",
      "memory usage: 73.3+ KB\n"
     ]
    }
   ],
   "source": [
    "print('\\033[1m'+ \"Table 3: Summary information about training \\\n",
    "data \\n\"+'\\033[0m')\n",
    "\n",
    "train_df.info()"
   ]
  },
  {
   "cell_type": "markdown",
   "id": "b0c4ee22-7ae8-45eb-9dc7-aa432da928a7",
   "metadata": {},
   "source": [
    "Next we run a summary of the missing values, in order to prepare a strategy for dealing with them during the modeling part."
   ]
  },
  {
   "cell_type": "code",
   "execution_count": 11,
   "id": "c0083fb9-3e25-469b-8239-9eb520e96e38",
   "metadata": {},
   "outputs": [
    {
     "name": "stdout",
     "output_type": "stream",
     "text": [
      "\u001b[1mTable 4: Summary missing values per column in training dataframe \n",
      "\u001b[0m\n"
     ]
    },
    {
     "data": {
      "text/plain": [
       "A1      8\n",
       "A2     10\n",
       "A3      0\n",
       "A4      3\n",
       "A5      3\n",
       "A6      6\n",
       "A7      6\n",
       "A8      0\n",
       "A9      0\n",
       "A10     0\n",
       "A11     0\n",
       "A12     0\n",
       "A13     0\n",
       "A14     8\n",
       "A15     0\n",
       "A16     0\n",
       "dtype: int64"
      ]
     },
     "execution_count": 11,
     "metadata": {},
     "output_type": "execute_result"
    }
   ],
   "source": [
    "print('\\033[1m'+ \"Table 4: Summary missing values per column \\\n",
    "in training dataframe \\n\"+'\\033[0m')\n",
    "\n",
    "train_df.isnull().sum()"
   ]
  },
  {
   "cell_type": "markdown",
   "id": "d7061fc4-45b0-464f-90ff-200acbe9c3d5",
   "metadata": {},
   "source": [
    "We can see in the description of the numeric columns in Table 5 below, that the values have different degree of variance and min-max values, which will require us to scale the numeric values in the modeling phase of our analysis."
   ]
  },
  {
   "cell_type": "code",
   "execution_count": 12,
   "id": "68b73d0f-3ab2-4657-adea-5109d6b9c2dd",
   "metadata": {},
   "outputs": [
    {
     "name": "stdout",
     "output_type": "stream",
     "text": [
      "\u001b[1mTable 5: Summary of key statistical categories of numeric columns in training data \n",
      "\u001b[0m\n"
     ]
    },
    {
     "data": {
      "text/html": [
       "<div>\n",
       "<style scoped>\n",
       "    .dataframe tbody tr th:only-of-type {\n",
       "        vertical-align: middle;\n",
       "    }\n",
       "\n",
       "    .dataframe tbody tr th {\n",
       "        vertical-align: top;\n",
       "    }\n",
       "\n",
       "    .dataframe thead th {\n",
       "        text-align: right;\n",
       "    }\n",
       "</style>\n",
       "<table border=\"1\" class=\"dataframe\">\n",
       "  <thead>\n",
       "    <tr style=\"text-align: right;\">\n",
       "      <th></th>\n",
       "      <th>A2</th>\n",
       "      <th>A3</th>\n",
       "      <th>A8</th>\n",
       "      <th>A11</th>\n",
       "      <th>A14</th>\n",
       "      <th>A15</th>\n",
       "    </tr>\n",
       "  </thead>\n",
       "  <tbody>\n",
       "    <tr>\n",
       "      <th>count</th>\n",
       "      <td>542.000000</td>\n",
       "      <td>552.000000</td>\n",
       "      <td>552.000000</td>\n",
       "      <td>552.000000</td>\n",
       "      <td>544.000000</td>\n",
       "      <td>552.000000</td>\n",
       "    </tr>\n",
       "    <tr>\n",
       "      <th>mean</th>\n",
       "      <td>31.210406</td>\n",
       "      <td>4.752745</td>\n",
       "      <td>2.211476</td>\n",
       "      <td>2.472826</td>\n",
       "      <td>182.981618</td>\n",
       "      <td>975.422101</td>\n",
       "    </tr>\n",
       "    <tr>\n",
       "      <th>std</th>\n",
       "      <td>11.938560</td>\n",
       "      <td>4.888587</td>\n",
       "      <td>3.329894</td>\n",
       "      <td>5.074328</td>\n",
       "      <td>166.134660</td>\n",
       "      <td>5553.903078</td>\n",
       "    </tr>\n",
       "    <tr>\n",
       "      <th>min</th>\n",
       "      <td>13.750000</td>\n",
       "      <td>0.000000</td>\n",
       "      <td>0.000000</td>\n",
       "      <td>0.000000</td>\n",
       "      <td>0.000000</td>\n",
       "      <td>0.000000</td>\n",
       "    </tr>\n",
       "    <tr>\n",
       "      <th>25%</th>\n",
       "      <td>22.420000</td>\n",
       "      <td>1.040000</td>\n",
       "      <td>0.165000</td>\n",
       "      <td>0.000000</td>\n",
       "      <td>80.000000</td>\n",
       "      <td>0.000000</td>\n",
       "    </tr>\n",
       "    <tr>\n",
       "      <th>50%</th>\n",
       "      <td>27.670000</td>\n",
       "      <td>2.812500</td>\n",
       "      <td>1.000000</td>\n",
       "      <td>0.000000</td>\n",
       "      <td>160.000000</td>\n",
       "      <td>4.000000</td>\n",
       "    </tr>\n",
       "    <tr>\n",
       "      <th>75%</th>\n",
       "      <td>37.750000</td>\n",
       "      <td>7.155000</td>\n",
       "      <td>2.595000</td>\n",
       "      <td>3.000000</td>\n",
       "      <td>272.500000</td>\n",
       "      <td>369.000000</td>\n",
       "    </tr>\n",
       "    <tr>\n",
       "      <th>max</th>\n",
       "      <td>80.250000</td>\n",
       "      <td>28.000000</td>\n",
       "      <td>28.500000</td>\n",
       "      <td>67.000000</td>\n",
       "      <td>2000.000000</td>\n",
       "      <td>100000.000000</td>\n",
       "    </tr>\n",
       "  </tbody>\n",
       "</table>\n",
       "</div>"
      ],
      "text/plain": [
       "               A2          A3          A8         A11          A14  \\\n",
       "count  542.000000  552.000000  552.000000  552.000000   544.000000   \n",
       "mean    31.210406    4.752745    2.211476    2.472826   182.981618   \n",
       "std     11.938560    4.888587    3.329894    5.074328   166.134660   \n",
       "min     13.750000    0.000000    0.000000    0.000000     0.000000   \n",
       "25%     22.420000    1.040000    0.165000    0.000000    80.000000   \n",
       "50%     27.670000    2.812500    1.000000    0.000000   160.000000   \n",
       "75%     37.750000    7.155000    2.595000    3.000000   272.500000   \n",
       "max     80.250000   28.000000   28.500000   67.000000  2000.000000   \n",
       "\n",
       "                 A15  \n",
       "count     552.000000  \n",
       "mean      975.422101  \n",
       "std      5553.903078  \n",
       "min         0.000000  \n",
       "25%         0.000000  \n",
       "50%         4.000000  \n",
       "75%       369.000000  \n",
       "max    100000.000000  "
      ]
     },
     "execution_count": 12,
     "metadata": {},
     "output_type": "execute_result"
    }
   ],
   "source": [
    "print('\\033[1m'+ \"Table 5: Summary of key statistical categories \\\n",
    "of numeric columns in training data \\n\"+'\\033[0m')\n",
    "\n",
    "train_df.describe()"
   ]
  },
  {
   "cell_type": "markdown",
   "id": "06c6ecc7-7727-4ecf-8b28-7dc267493298",
   "metadata": {},
   "source": [
    "**Take a look at individual columns of the dataset**\n",
    "\n",
    "In order to better understand what the data contains we want to look at the individual columns separately.  We'll first look at the values distribution for the categorical columns."
   ]
  },
  {
   "cell_type": "code",
   "execution_count": 13,
   "id": "88cda737-1235-43ae-8b86-05ca62b12791",
   "metadata": {},
   "outputs": [
    {
     "data": {
      "image/png": "[encoded data removed]",
      "text/plain": [
       "<Figure size 1000x1000 with 8 Axes>"
      ]
     },
     "metadata": {},
     "output_type": "display_data"
    }
   ],
   "source": [
    "categorical = [\"A1\", \"A4\",\"A5\",\"A6\",\"A7\",\"A9\",\"A10\",\"A12\"]\n",
    "\n",
    "fig = plt.figure(figsize=(10, 10))\n",
    "\n",
    "for i, col in enumerate(categorical):\n",
    "    fig.add_subplot(4, 2, i + 1)\n",
    "    train_df[col].value_counts().plot(kind=\"bar\", ax=plt.gca(), \n",
    "                                      title=col, rot=0)\n",
    "\n",
    "\n",
    "fig.supxlabel('Category labels')\n",
    "fig.suptitle('Figure 1: Category counts per column for\\\n",
    "categorical variables', fontsize=16)\n",
    "fig.tight_layout()"
   ]
  },
  {
   "cell_type": "markdown",
   "id": "f7643788-8075-4e04-8d5d-696a7f6514b9",
   "metadata": {},
   "source": [
    "We also want to get a better understanding of the value distributions in the numeric columns by creating histograms with each of the values in the numeric columns."
   ]
  },
  {
   "cell_type": "code",
   "execution_count": 14,
   "id": "94944233-474f-4185-a407-32ad37abecc6",
   "metadata": {},
   "outputs": [
    {
     "data": {
      "image/png": "[encoded data removed]",
      "text/plain": [
       "<Figure size 1000x1000 with 6 Axes>"
      ]
     },
     "metadata": {},
     "output_type": "display_data"
    }
   ],
   "source": [
    "numeric = [\"A2\", \"A3\",\"A8\",\"A11\",\"A14\",\"A15\"]\n",
    "\n",
    "fig = plt.figure(figsize=(10, 10))\n",
    "\n",
    "\n",
    "for i, col in enumerate(numeric):\n",
    "    fig.add_subplot(3, 2, i + 1)\n",
    "    train_df[col].plot(kind=\"hist\", ax=plt.gca(), title=col, rot=0, bins = 15)\n",
    "fig.suptitle('Figure 2: Histograms of frequency per numeric \\\n",
    "    column from training data ', fontsize=16)\n",
    "fig.supxlabel('Values')\n",
    "fig.tight_layout()"
   ]
  },
  {
   "cell_type": "markdown",
   "id": "4b60a269-adf6-47ae-a521-c7e43e306b0d",
   "metadata": {},
   "source": [
    "**Correlation matrix**\n",
    "\n",
    "Finally we want to look at the correlations among the numeric values.  We can see that there are no major outliers in terms of correlations.  This is a good sign, because it means that all the numeric features can potentially add value in the analysis."
   ]
  },
  {
   "cell_type": "code",
   "execution_count": 15,
   "id": "ff5e3c7e-ebee-4ad7-af87-15d5c6063f99",
   "metadata": {},
   "outputs": [
    {
     "name": "stdout",
     "output_type": "stream",
     "text": [
      "\u001b[1mTable 6: Correlation matrix of numeric     columns from training data \n",
      "\u001b[0m\n"
     ]
    },
    {
     "data": {
      "text/html": [
       "<style type=\"text/css\">\n",
       "#T_e5d02_row0_col0, #T_e5d02_row1_col1, #T_e5d02_row2_col2, #T_e5d02_row3_col3, #T_e5d02_row4_col4, #T_e5d02_row5_col5 {\n",
       "  background-color: #023858;\n",
       "  color: #f1f1f1;\n",
       "}\n",
       "#T_e5d02_row0_col1 {\n",
       "  background-color: #c1cae2;\n",
       "  color: #000000;\n",
       "}\n",
       "#T_e5d02_row0_col2 {\n",
       "  background-color: #c2cbe2;\n",
       "  color: #000000;\n",
       "}\n",
       "#T_e5d02_row0_col3 {\n",
       "  background-color: #d9d8ea;\n",
       "  color: #000000;\n",
       "}\n",
       "#T_e5d02_row0_col4 {\n",
       "  background-color: #d3d4e7;\n",
       "  color: #000000;\n",
       "}\n",
       "#T_e5d02_row0_col5 {\n",
       "  background-color: #f3edf5;\n",
       "  color: #000000;\n",
       "}\n",
       "#T_e5d02_row1_col0 {\n",
       "  background-color: #f4edf6;\n",
       "  color: #000000;\n",
       "}\n",
       "#T_e5d02_row1_col2 {\n",
       "  background-color: #c4cbe3;\n",
       "  color: #000000;\n",
       "}\n",
       "#T_e5d02_row1_col3 {\n",
       "  background-color: #c8cde4;\n",
       "  color: #000000;\n",
       "}\n",
       "#T_e5d02_row1_col4, #T_e5d02_row4_col0, #T_e5d02_row4_col1, #T_e5d02_row4_col2, #T_e5d02_row4_col3, #T_e5d02_row4_col5 {\n",
       "  background-color: #fff7fb;\n",
       "  color: #000000;\n",
       "}\n",
       "#T_e5d02_row1_col5 {\n",
       "  background-color: #e7e3f0;\n",
       "  color: #000000;\n",
       "}\n",
       "#T_e5d02_row2_col0 {\n",
       "  background-color: #d0d1e6;\n",
       "  color: #000000;\n",
       "}\n",
       "#T_e5d02_row2_col1 {\n",
       "  background-color: #93b5d6;\n",
       "  color: #000000;\n",
       "}\n",
       "#T_e5d02_row2_col3 {\n",
       "  background-color: #9ab8d8;\n",
       "  color: #000000;\n",
       "}\n",
       "#T_e5d02_row2_col4 {\n",
       "  background-color: #dddbec;\n",
       "  color: #000000;\n",
       "}\n",
       "#T_e5d02_row2_col5, #T_e5d02_row3_col4 {\n",
       "  background-color: #ebe6f2;\n",
       "  color: #000000;\n",
       "}\n",
       "#T_e5d02_row3_col0 {\n",
       "  background-color: #f0eaf4;\n",
       "  color: #000000;\n",
       "}\n",
       "#T_e5d02_row3_col1 {\n",
       "  background-color: #a8bedc;\n",
       "  color: #000000;\n",
       "}\n",
       "#T_e5d02_row3_col2 {\n",
       "  background-color: #acc0dd;\n",
       "  color: #000000;\n",
       "}\n",
       "#T_e5d02_row3_col5 {\n",
       "  background-color: #88b1d4;\n",
       "  color: #000000;\n",
       "}\n",
       "#T_e5d02_row5_col0 {\n",
       "  background-color: #fdf5fa;\n",
       "  color: #000000;\n",
       "}\n",
       "#T_e5d02_row5_col1 {\n",
       "  background-color: #bdc8e1;\n",
       "  color: #000000;\n",
       "}\n",
       "#T_e5d02_row5_col2 {\n",
       "  background-color: #ede7f2;\n",
       "  color: #000000;\n",
       "}\n",
       "#T_e5d02_row5_col3 {\n",
       "  background-color: #79abd0;\n",
       "  color: #f1f1f1;\n",
       "}\n",
       "#T_e5d02_row5_col4 {\n",
       "  background-color: #dfddec;\n",
       "  color: #000000;\n",
       "}\n",
       "</style>\n",
       "<table id=\"T_e5d02\">\n",
       "  <thead>\n",
       "    <tr>\n",
       "      <th class=\"blank level0\" >&nbsp;</th>\n",
       "      <th id=\"T_e5d02_level0_col0\" class=\"col_heading level0 col0\" >A2</th>\n",
       "      <th id=\"T_e5d02_level0_col1\" class=\"col_heading level0 col1\" >A3</th>\n",
       "      <th id=\"T_e5d02_level0_col2\" class=\"col_heading level0 col2\" >A8</th>\n",
       "      <th id=\"T_e5d02_level0_col3\" class=\"col_heading level0 col3\" >A11</th>\n",
       "      <th id=\"T_e5d02_level0_col4\" class=\"col_heading level0 col4\" >A14</th>\n",
       "      <th id=\"T_e5d02_level0_col5\" class=\"col_heading level0 col5\" >A15</th>\n",
       "    </tr>\n",
       "  </thead>\n",
       "  <tbody>\n",
       "    <tr>\n",
       "      <th id=\"T_e5d02_level0_row0\" class=\"row_heading level0 row0\" >A2</th>\n",
       "      <td id=\"T_e5d02_row0_col0\" class=\"data row0 col0\" >1.000000</td>\n",
       "      <td id=\"T_e5d02_row0_col1\" class=\"data row0 col1\" >0.093543</td>\n",
       "      <td id=\"T_e5d02_row0_col2\" class=\"data row0 col2\" >0.267358</td>\n",
       "      <td id=\"T_e5d02_row0_col3\" class=\"data row0 col3\" >0.115275</td>\n",
       "      <td id=\"T_e5d02_row0_col4\" class=\"data row0 col4\" >0.019440</td>\n",
       "      <td id=\"T_e5d02_row0_col5\" class=\"data row0 col5\" >0.037763</td>\n",
       "    </tr>\n",
       "    <tr>\n",
       "      <th id=\"T_e5d02_level0_row1\" class=\"row_heading level0 row1\" >A3</th>\n",
       "      <td id=\"T_e5d02_row1_col0\" class=\"data row1 col0\" >0.093543</td>\n",
       "      <td id=\"T_e5d02_row1_col1\" class=\"data row1 col1\" >1.000000</td>\n",
       "      <td id=\"T_e5d02_row1_col2\" class=\"data row1 col2\" >0.261431</td>\n",
       "      <td id=\"T_e5d02_row1_col3\" class=\"data row1 col3\" >0.190279</td>\n",
       "      <td id=\"T_e5d02_row1_col4\" class=\"data row1 col4\" >-0.285688</td>\n",
       "      <td id=\"T_e5d02_row1_col5\" class=\"data row1 col5\" >0.109634</td>\n",
       "    </tr>\n",
       "    <tr>\n",
       "      <th id=\"T_e5d02_level0_row2\" class=\"row_heading level0 row2\" >A8</th>\n",
       "      <td id=\"T_e5d02_row2_col0\" class=\"data row2 col0\" >0.267358</td>\n",
       "      <td id=\"T_e5d02_row2_col1\" class=\"data row2 col1\" >0.261431</td>\n",
       "      <td id=\"T_e5d02_row2_col2\" class=\"data row2 col2\" >1.000000</td>\n",
       "      <td id=\"T_e5d02_row2_col3\" class=\"data row2 col3\" >0.334260</td>\n",
       "      <td id=\"T_e5d02_row2_col4\" class=\"data row2 col4\" >-0.034651</td>\n",
       "      <td id=\"T_e5d02_row2_col5\" class=\"data row2 col5\" >0.092097</td>\n",
       "    </tr>\n",
       "    <tr>\n",
       "      <th id=\"T_e5d02_level0_row3\" class=\"row_heading level0 row3\" >A11</th>\n",
       "      <td id=\"T_e5d02_row3_col0\" class=\"data row3 col0\" >0.115275</td>\n",
       "      <td id=\"T_e5d02_row3_col1\" class=\"data row3 col1\" >0.190279</td>\n",
       "      <td id=\"T_e5d02_row3_col2\" class=\"data row3 col2\" >0.334260</td>\n",
       "      <td id=\"T_e5d02_row3_col3\" class=\"data row3 col3\" >1.000000</td>\n",
       "      <td id=\"T_e5d02_row3_col4\" class=\"data row3 col4\" >-0.117220</td>\n",
       "      <td id=\"T_e5d02_row3_col5\" class=\"data row3 col5\" >0.424329</td>\n",
       "    </tr>\n",
       "    <tr>\n",
       "      <th id=\"T_e5d02_level0_row4\" class=\"row_heading level0 row4\" >A14</th>\n",
       "      <td id=\"T_e5d02_row4_col0\" class=\"data row4 col0\" >0.019440</td>\n",
       "      <td id=\"T_e5d02_row4_col1\" class=\"data row4 col1\" >-0.285688</td>\n",
       "      <td id=\"T_e5d02_row4_col2\" class=\"data row4 col2\" >-0.034651</td>\n",
       "      <td id=\"T_e5d02_row4_col3\" class=\"data row4 col3\" >-0.117220</td>\n",
       "      <td id=\"T_e5d02_row4_col4\" class=\"data row4 col4\" >1.000000</td>\n",
       "      <td id=\"T_e5d02_row4_col5\" class=\"data row4 col5\" >-0.045223</td>\n",
       "    </tr>\n",
       "    <tr>\n",
       "      <th id=\"T_e5d02_level0_row5\" class=\"row_heading level0 row5\" >A15</th>\n",
       "      <td id=\"T_e5d02_row5_col0\" class=\"data row5 col0\" >0.037763</td>\n",
       "      <td id=\"T_e5d02_row5_col1\" class=\"data row5 col1\" >0.109634</td>\n",
       "      <td id=\"T_e5d02_row5_col2\" class=\"data row5 col2\" >0.092097</td>\n",
       "      <td id=\"T_e5d02_row5_col3\" class=\"data row5 col3\" >0.424329</td>\n",
       "      <td id=\"T_e5d02_row5_col4\" class=\"data row5 col4\" >-0.045223</td>\n",
       "      <td id=\"T_e5d02_row5_col5\" class=\"data row5 col5\" >1.000000</td>\n",
       "    </tr>\n",
       "  </tbody>\n",
       "</table>\n"
      ],
      "text/plain": [
       "<pandas.io.formats.style.Styler at 0x216deaca470>"
      ]
     },
     "execution_count": 15,
     "metadata": {},
     "output_type": "execute_result"
    }
   ],
   "source": [
    "print('\\033[1m'+ \"Table 6: Correlation matrix of numeric \\\n",
    "    columns from training data \\n\"+'\\033[0m')\n",
    "\n",
    "corr = train_df.corr('spearman').style.background_gradient()\n",
    "corr"
   ]
  }
 ],
 "metadata": {
  "kernelspec": {
   "display_name": "Python [conda env:573]",
   "language": "python",
   "name": "conda-env-573-py"
  },
  "language_info": {
   "codemirror_mode": {
    "name": "ipython",
    "version": 3
   },
   "file_extension": ".py",
   "mimetype": "text/x-python",
   "name": "python",
   "nbconvert_exporter": "python",
   "pygments_lexer": "ipython3",
   "version": "3.10.6"
  }
 },
 "nbformat": 4,
 "nbformat_minor": 5
}
