{
 "cells": [
  {
   "cell_type": "code",
   "execution_count": 2,
   "id": "8ff0a817-5132-4c3e-9a9d-29aa83f1ccac",
   "metadata": {},
   "outputs": [],
   "source": [
    "# Importing needed libraries\n",
    "import numpy as np\n",
    "import pandas as pd\n",
    "from matplotlib import pyplot as plt\n",
    "from sklearn.model_selection import train_test_split"
   ]
  },
  {
   "cell_type": "code",
   "execution_count": 3,
   "id": "256978dd-d727-494b-945b-428b8b817d05",
   "metadata": {},
   "outputs": [],
   "source": [
    "df = pd.read_csv(\"crx.csv\", encoding=\"utf-8\")\n",
    "df = df.replace('?', np.nan)\n",
    "train_df, test_df = train_test_split(df, test_size=0.2, random_state=522)\n",
    "train_df.to_csv('../data/processed/train_df.csv')\n",
    "test_df.to_csv('../data/processed/test_df.csv')"
   ]
  },
  {
   "cell_type": "code",
   "execution_count": null,
   "id": "46a6ff50-4197-42ce-9d6e-f00a9797fab2",
   "metadata": {},
   "outputs": [],
   "source": []
  }
 ],
 "metadata": {
  "kernelspec": {
   "display_name": "Python [conda env:573]",
   "language": "python",
   "name": "conda-env-573-py"
  },
  "language_info": {
   "codemirror_mode": {
    "name": "ipython",
    "version": 3
   },
   "file_extension": ".py",
   "mimetype": "text/x-python",
   "name": "python",
   "nbconvert_exporter": "python",
   "pygments_lexer": "ipython3",
   "version": "3.10.6"
  }
 },
 "nbformat": 4,
 "nbformat_minor": 5
}
